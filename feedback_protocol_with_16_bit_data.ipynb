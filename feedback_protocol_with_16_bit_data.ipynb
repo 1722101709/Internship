{
  "cells": [
    {
      "cell_type": "markdown",
      "metadata": {
        "id": "view-in-github",
        "colab_type": "text"
      },
      "source": [
        "<a href=\"https://colab.research.google.com/github/1722101709/Internship/blob/feedback_protocol_with_16-bit-data/feedback_protocol_with_16_bit_data.ipynb\" target=\"_parent\"><img src=\"https://colab.research.google.com/assets/colab-badge.svg\" alt=\"Open In Colab\"/></a>"
      ]
    },
    {
      "cell_type": "code",
      "execution_count": 8,
      "metadata": {
        "id": "2uWVQ8od1Tgc"
      },
      "outputs": [],
      "source": [
        "import numpy as np\n",
        "import gym\n",
        "from collections import deque\n",
        "import random"
      ]
    },
    {
      "cell_type": "code",
      "source": [
        "n = 16 # no of bits"
      ],
      "metadata": {
        "id": "odQQszgwFLoB"
      },
      "execution_count": 22,
      "outputs": []
    },
    {
      "cell_type": "code",
      "execution_count": 9,
      "metadata": {
        "id": "ELPLlfjp-zji"
      },
      "outputs": [],
      "source": [
        "class OUNoise(object): # noise class\n",
        "    def __init__(self, action_space, mu=0.0, theta=0.15, max_sigma=0.3, min_sigma=0.3, decay_period=100000):\n",
        "        self.mu           = mu\n",
        "        self.theta        = theta\n",
        "        self.sigma        = max_sigma\n",
        "        self.max_sigma    = max_sigma\n",
        "        self.min_sigma    = min_sigma\n",
        "        self.decay_period = decay_period\n",
        "        self.action_dim   = action_space.shape[0]\n",
        "        self.low          = action_space.low\n",
        "        self.high         = action_space.high\n",
        "        self.reset()\n",
        "        \n",
        "    def reset(self): # resetting the state\n",
        "        self.state = np.ones(self.action_dim) * self.mu\n",
        "        \n",
        "    def evolve_state(self): # exploring the next state\n",
        "        x  = self.state\n",
        "        dx = self.theta * (self.mu - x) + self.sigma * np.random.randn(self.action_dim)\n",
        "        self.state = x + dx\n",
        "        return self.state\n",
        "    \n",
        "    def get_action(self, action, t=0): # get action for the current state\n",
        "        ou_state = self.evolve_state()\n",
        "        self.sigma = self.max_sigma - (self.max_sigma - self.min_sigma) * min(1.0, t / self.decay_period)\n",
        "        return np.clip(action + ou_state, self.low, self.high)\n",
        "\n",
        "\n",
        "        \n",
        "# memory class to store the experiences\n",
        "class Memory:\n",
        "    def __init__(self, max_size): # initializing memory with max_size\n",
        "        self.max_size = max_size\n",
        "        self.buffer = deque(maxlen=max_size)\n",
        "    \n",
        "    def push(self, state, action, reward, next_state, done): # push method to add experience into the memory\n",
        "        experience = (state, action, np.array([reward]), next_state, done)\n",
        "        self.buffer.append(experience)\n",
        "\n",
        "    def sample(self, batch_size): # seperating the elements in the experience into  seperate lists\n",
        "        state_batch = [] # states\n",
        "        action_batch = [] # actions\n",
        "        reward_batch = [] # rewards\n",
        "        next_state_batch = [] # next state\n",
        "        done_batch = [] # is_done\n",
        "\n",
        "        batch = random.sample(self.buffer, batch_size)\n",
        "\n",
        "        for experience in batch:\n",
        "            state, action, reward, next_state, done = experience\n",
        "            state_batch.append(state)\n",
        "            action_batch.append(action)\n",
        "            reward_batch.append(reward)\n",
        "            next_state_batch.append(next_state)\n",
        "            done_batch.append(done)\n",
        "        \n",
        "        return state_batch, action_batch, reward_batch, next_state_batch, done_batch\n",
        "\n",
        "    def __len__(self): # to get the size of the memory filled with experiences\n",
        "        return len(self.buffer)"
      ]
    },
    {
      "cell_type": "code",
      "execution_count": 10,
      "metadata": {
        "id": "8_HsRP3x-2w9"
      },
      "outputs": [],
      "source": [
        "# importing necessary modules\n",
        "import torch\n",
        "import torch.nn as nn\n",
        "import torch.nn.functional as F \n",
        "import torch.autograd\n",
        "from torch.autograd import Variable\n",
        "\n",
        "class Critic(nn.Module): # critic class to implement the critic network \n",
        "    \n",
        "    def __init__(self, input_size, hidden_size, output_size): # initializing the critic network\n",
        "        super(Critic, self).__init__()\n",
        "        self.linear1 = nn.Linear(input_size, hidden_size)\n",
        "        self.linear2 = nn.Linear(hidden_size, hidden_size)\n",
        "        self.linear3 = nn.Linear(hidden_size, output_size)\n",
        "\n",
        "    def forward(self, state, action): # forward propogation i.e., input to the input layer => output from the output layer\n",
        "\n",
        "        x = torch.cat([state, action], 1)\n",
        "        x = F.relu(self.linear1(x))\n",
        "        x = F.relu(self.linear2(x))\n",
        "        x = self.linear3(x)\n",
        "\n",
        "        return x\n",
        "\n",
        "class Actor(nn.Module): # Actor class to implement the Actor Network\n",
        "\n",
        "    def __init__(self, input_size, hidden_size, output_size, learning_rate = 3e-4): # initializing the Actor network\n",
        "        super(Actor, self).__init__()\n",
        "        self.linear1 = nn.Linear(input_size, hidden_size)\n",
        "        self.linear2 = nn.Linear(hidden_size, hidden_size)\n",
        "        self.linear3 = nn.Linear(hidden_size, output_size)\n",
        "        \n",
        "    def forward(self, state): # forward propogation in Actor network with input\n",
        "\n",
        "        x = F.relu(self.linear1(state))\n",
        "        x = F.relu(self.linear2(x))\n",
        "        x = torch.tanh(self.linear3(x))\n",
        "\n",
        "        return x"
      ]
    },
    {
      "cell_type": "code",
      "execution_count": 11,
      "metadata": {
        "id": "qLB_UGUS-7OI"
      },
      "outputs": [],
      "source": [
        "# importing necessary modules \n",
        "import torch\n",
        "import torch.autograd\n",
        "import torch.optim as optim\n",
        "import torch.nn as nn\n",
        "\n",
        "\n",
        "class DDPGagent: # agent class(Deep Deterministic Policy Gradient)\n",
        "\n",
        "    # initilaizations\n",
        "    def __init__(self, env, hidden_size=256, actor_learning_rate=1e-4, critic_learning_rate=1e-3, gamma=0.99, tau=1e-2, max_memory_size=50000):\n",
        "        # Parameters\n",
        "        self.num_states = env.observation_space.shape[0] # number of states\n",
        "        self.num_actions = env.action_space.shape[0] # no of actions\n",
        "        self.gamma = gamma\n",
        "        self.tau = tau\n",
        "\n",
        "        # Networks\n",
        "        self.actor = Actor(self.num_states, hidden_size, self.num_actions) # actor network\n",
        "        self.actor_target = Actor(self.num_states, hidden_size, self.num_actions) # actor target network\n",
        "        self.critic = Critic(self.num_states + self.num_actions, hidden_size, self.num_actions) # critic network\n",
        "        self.critic_target = Critic(self.num_states + self.num_actions, hidden_size, self.num_actions) # critic target network\n",
        "\n",
        "        for target_param, param in zip(self.actor_target.parameters(), self.actor.parameters()):\n",
        "            target_param.data.copy_(param.data)\n",
        "\n",
        "        for target_param, param in zip(self.critic_target.parameters(), self.critic.parameters()):\n",
        "            target_param.data.copy_(param.data)\n",
        "        \n",
        "        # Training\n",
        "        self.memory = Memory(max_memory_size) # initialize the memory  \n",
        "        self.critic_criterion  = nn.MSELoss() # loss function\n",
        "        self.actor_optimizer  = optim.Adam(self.actor.parameters(), lr=actor_learning_rate) # optimizers for actor network\n",
        "        self.critic_optimizer = optim.Adam(self.critic.parameters(), lr=critic_learning_rate) # optimizers for critic network\n",
        "    \n",
        "    def get_action(self, state): # to get the action for the state by passing state as input to the actor network\n",
        "        state = Variable(torch.from_numpy(state).float().unsqueeze(0))\n",
        "        action = self.actor.forward(state)\n",
        "        action = action.detach().numpy()[0,0]\n",
        "        return action\n",
        "    \n",
        "    def update(self, batch_size): # updating the sampling after batch_size iterations\n",
        "        states, actions, rewards, next_states, _ = self.memory.sample(batch_size)\n",
        "        states = torch.FloatTensor(states)\n",
        "        actions = torch.FloatTensor(actions)\n",
        "        rewards = torch.FloatTensor(rewards)\n",
        "        next_states = torch.FloatTensor(next_states)\n",
        "    \n",
        "        # Critic loss        \n",
        "        Qvals = self.critic.forward(states, actions)\n",
        "        next_actions = self.actor_target.forward(next_states)\n",
        "        next_Q = self.critic_target.forward(next_states, next_actions.detach())\n",
        "        Qprime = rewards + self.gamma * next_Q\n",
        "        critic_loss = self.critic_criterion(Qvals, Qprime)\n",
        "\n",
        "        # Actor loss\n",
        "        policy_loss = -self.critic.forward(states, self.actor.forward(states)).mean()\n",
        "        \n",
        "        # update networks\n",
        "        self.actor_optimizer.zero_grad() # actor network\n",
        "        policy_loss.backward()\n",
        "        self.actor_optimizer.step()\n",
        "\n",
        "        self.critic_optimizer.zero_grad() # critic network\n",
        "        critic_loss.backward() \n",
        "        self.critic_optimizer.step()\n",
        "\n",
        "        # update target networks \n",
        "        for target_param, param in zip(self.actor_target.parameters(), self.actor.parameters()):\n",
        "            target_param.data.copy_(param.data * self.tau + target_param.data * (1.0 - self.tau))\n",
        "       \n",
        "        for target_param, param in zip(self.critic_target.parameters(), self.critic.parameters()):\n",
        "            target_param.data.copy_(param.data * self.tau + target_param.data * (1.0 - self.tau))"
      ]
    },
    {
      "cell_type": "code",
      "execution_count": 12,
      "metadata": {
        "id": "zE84Q12h_D5D"
      },
      "outputs": [],
      "source": [
        "# importing modules\n",
        "from gym import Env\n",
        "from gym.spaces import Discrete, Box\n",
        "import numpy as np\n",
        "import random\n",
        "import pandas as pd\n",
        "import random\n",
        "from sklearn.preprocessing import StandardScaler, normalize\n",
        "from sklearn.decomposition import PCA\n",
        "# Environment\n",
        "class Environment(Env):\n",
        "\n",
        "    def __init__(self): # initializing environment\n",
        "        self.action_space = Box(low = np.array([-1]), high = np.array([1]), dtype=float)\n",
        "        self.observation_space = Box(low = np.array([-1]), high = np.array([1]), dtype=float)\n",
        "        self.state = np.round(np.random.random(1), decimals=2)\n",
        "        self.n = 2**n\n",
        "        self.data = self.get_data(self.n)\n",
        "        self.iter = 0\n",
        "    def step(self, action): # taking actions on environment\n",
        "\n",
        "        reward = abs(action)\n",
        "        done, next_state = True if self.iter  == self.n-2 else  False, np.array([self.data[self.iter+1]])\n",
        "        self.state = next_state\n",
        "        self.iter += 1\n",
        "        return self.state,reward,done,{}\n",
        "    def get_data(self,n):\n",
        "        x = []\n",
        "        for i in range(n):\n",
        "            pattern = '{0:0'+str(n)+'b}'\n",
        "            y = pattern.format(random.randint(1,n))\n",
        "            x.append([ord(j)-ord('0') for j in y])\n",
        "        x = pd.DataFrame(x)\n",
        "        c = len(x.columns)\n",
        "        if c == 17:del x[n]\n",
        "        x_scaler = StandardScaler().fit_transform(x) # Scaling\n",
        "        x_normalize = pd.DataFrame(normalize(x_scaler)) # normalizing\n",
        "        \n",
        "        x_pca = pd.DataFrame(PCA(n_components=1).fit_transform(x_normalize)) # applying PCA and storing the result in dataframe\n",
        "\n",
        "        return list(x_pca[0])\n",
        "    def reset(self): # reset the environment\n",
        "        self.__init__()\n",
        "        return self.state\n"
      ]
    },
    {
      "cell_type": "code",
      "execution_count": 13,
      "metadata": {
        "colab": {
          "base_uri": "https://localhost:8080/"
        },
        "id": "SKmcyP_4QPwZ",
        "outputId": "09d4257c-c8ed-4b88-a841-d4ef505ca141"
      },
      "outputs": [
        {
          "output_type": "stream",
          "name": "stdout",
          "text": [
            "episode: 1, reward: 32821.24, average _reward: 32821.23881686684 \n",
            "\n",
            "episode: 2, reward: 32669.24, average _reward: 32745.237521462055 \n",
            "\n",
            "episode: 3, reward: 32796.85, average _reward: 32762.440797805553 \n",
            "\n",
            "episode: 4, reward: 32930.75, average _reward: 32804.51708472024 \n",
            "\n",
            "episode: 5, reward: 32602.43, average _reward: 32764.09914727183 \n",
            "\n",
            "episode: 6, reward: 32752.11, average _reward: 32762.101331942522 \n",
            "\n",
            "episode: 7, reward: 32685.09, average _reward: 32751.099568689246 \n",
            "\n",
            "episode: 8, reward: 32765.6, average _reward: 32752.912140001165 \n",
            "\n",
            "episode: 9, reward: 32798.17, average _reward: 32757.94074683526 \n",
            "\n",
            "episode: 10, reward: 32578.55, average _reward: 32740.002128137225 \n",
            "\n"
          ]
        }
      ],
      "source": [
        "#importing modules\n",
        "import sys\n",
        "import gym\n",
        "import numpy as np\n",
        "import pandas as pd\n",
        "import warnings\n",
        "warnings.filterwarnings('ignore')\n",
        "\n",
        "env = Environment() # creating environment\n",
        "\n",
        "agent = DDPGagent(env) # agent\n",
        "noise = OUNoise(env.action_space) # noise class object\n",
        "batch_size = 2 \n",
        "rewards = []\n",
        "avg_rewards = []\n",
        "episodes = 10 # no of episodes\n",
        "steps = 2**n-1 # no of steps in an episode\n",
        "for episode in range(episodes):\n",
        "    state = env.reset()\n",
        "    noise.reset()\n",
        "    episode_reward = 0\n",
        "    for step in range(steps):\n",
        "        action = random.uniform(-1,1) # random action\n",
        "        new_state, reward, done, _ = env.step(action) # apply action on the environment\n",
        "        \n",
        "        state = new_state\n",
        "        episode_reward += reward\n",
        "        if done: # if environment was explored fully then, stop\n",
        "            break\n",
        " \n",
        "    rewards.append(episode_reward)\n",
        "    avg_rewards.append(np.mean(rewards[-10:]))\n",
        "    # print total reward for the episode and average_reward per episode\n",
        "    print(\"episode: {}, reward: {}, average _reward: {} \\n\".format(episode+1, np.round(episode_reward, decimals=2), np.mean(rewards[-10:])))\n",
        "without_feedback_rewards = rewards\n",
        "without_feedback_avg_rewards = avg_rewards\n"
      ]
    },
    {
      "cell_type": "code",
      "execution_count": 14,
      "metadata": {
        "colab": {
          "base_uri": "https://localhost:8080/"
        },
        "id": "j_0vXX_e_I2A",
        "outputId": "86e570e8-bbf5-4134-f977-0ecb58fe45ba"
      },
      "outputs": [
        {
          "output_type": "stream",
          "name": "stdout",
          "text": [
            "episode: 1, reward: [51735.49], average _reward: 51735.491646213675 \n",
            "\n",
            "episode: 2, reward: [51675.93], average _reward: 51705.71092022459 \n",
            "\n",
            "episode: 3, reward: [51752.38], average _reward: 51721.26688520432 \n",
            "\n",
            "episode: 4, reward: [51693.35], average _reward: 51714.28884552134 \n",
            "\n",
            "episode: 5, reward: [51675.45], average _reward: 51706.521204447796 \n",
            "\n",
            "episode: 6, reward: [51442.64], average _reward: 51662.54090822672 \n",
            "\n",
            "episode: 7, reward: [51742.37], average _reward: 51673.94471259007 \n",
            "\n",
            "episode: 8, reward: [52111.42], average _reward: 51728.62906650451 \n",
            "\n",
            "episode: 9, reward: [51266.18], average _reward: 51677.24577462014 \n",
            "\n",
            "episode: 10, reward: [51448.11], average _reward: 51654.331922859754 \n",
            "\n"
          ]
        }
      ],
      "source": [
        "#importing modules\n",
        "import sys\n",
        "import gym\n",
        "import numpy as np\n",
        "import pandas as pd\n",
        "import warnings\n",
        "warnings.filterwarnings('ignore')\n",
        "\n",
        "env = Environment() # creating environment\n",
        "\n",
        "agent = DDPGagent(env) # agent\n",
        "noise = OUNoise(env.action_space) # noise class object\n",
        "batch_size = 2 \n",
        "rewards = []\n",
        "avg_rewards = []\n",
        "episodes = 10 # no of episodes\n",
        "steps = 2**n-1 # no of steps in an episode\n",
        "for episode in range(episodes):\n",
        "    state = env.reset()\n",
        "    noise.reset()\n",
        "    episode_reward = 0\n",
        "    for step in range(steps):\n",
        "        action = agent.get_action(state) # get action from Agent\n",
        "        action = noise.get_action(action, step) # add noise to the action\n",
        "        new_state, reward, done, _ = env.step(action) # apply action on the environment\n",
        "        agent.memory.push(state, action, reward, new_state, done) # store the experience in the memory\n",
        "        \n",
        "        if len(agent.memory) > batch_size: # update the sampling after batch_size iterations\n",
        "            agent.update(batch_size)\n",
        "        \n",
        "        state = new_state\n",
        "        episode_reward += reward\n",
        "        if done: # if environment was explored fully then, stop\n",
        "            break\n",
        " \n",
        "    rewards.append(episode_reward)\n",
        "    avg_rewards.append(np.mean(rewards[-10:]))\n",
        "    # print total reward for the episode and average_reward per episode\n",
        "    print(\"episode: {}, reward: {}, average_reward: {} \\n\".format(episode+1, np.round(episode_reward, decimals=2), np.mean(rewards[-10:])))\n",
        "with_feedback_rewards = rewards\n",
        "with_feedback_avg_rewards = avg_rewards"
      ]
    },
    {
      "cell_type": "code",
      "source": [
        "without_feedback_avg_rewards"
      ],
      "metadata": {
        "colab": {
          "base_uri": "https://localhost:8080/"
        },
        "id": "Gi4wX8qvGMhi",
        "outputId": "dd455b29-132d-43a5-88bd-3a3facee2994"
      },
      "execution_count": 25,
      "outputs": [
        {
          "output_type": "execute_result",
          "data": {
            "text/plain": [
              "[32821.23881686684,\n",
              " 32745.237521462055,\n",
              " 32762.440797805553,\n",
              " 32804.51708472024,\n",
              " 32764.09914727183,\n",
              " 32762.101331942522,\n",
              " 32751.099568689246,\n",
              " 32752.912140001165,\n",
              " 32757.94074683526,\n",
              " 32740.002128137225]"
            ]
          },
          "metadata": {},
          "execution_count": 25
        }
      ]
    },
    {
      "cell_type": "code",
      "source": [
        "with_feedback_avg_rewards"
      ],
      "metadata": {
        "colab": {
          "base_uri": "https://localhost:8080/"
        },
        "id": "c5NQvZUXGQUH",
        "outputId": "75c52a54-d65d-46ae-c0d3-4f9eebd6eace"
      },
      "execution_count": 26,
      "outputs": [
        {
          "output_type": "execute_result",
          "data": {
            "text/plain": [
              "[51735.491646213675,\n",
              " 51705.71092022459,\n",
              " 51721.26688520432,\n",
              " 51714.28884552134,\n",
              " 51706.521204447796,\n",
              " 51662.54090822672,\n",
              " 51673.94471259007,\n",
              " 51728.62906650451,\n",
              " 51677.24577462014,\n",
              " 51654.331922859754]"
            ]
          },
          "metadata": {},
          "execution_count": 26
        }
      ]
    },
    {
      "cell_type": "code",
      "execution_count": 24,
      "metadata": {
        "id": "GtnmJLu0_Jwz",
        "colab": {
          "base_uri": "https://localhost:8080/",
          "height": 295
        },
        "outputId": "f2ec5422-d720-4103-b4c7-328a5b4fd2a5"
      },
      "outputs": [
        {
          "output_type": "display_data",
          "data": {
            "text/plain": [
              "<Figure size 432x288 with 1 Axes>"
            ],
            "image/png": "[encoded data removed]"
          },
          "metadata": {}
        }
      ],
      "source": [
        "from matplotlib import pyplot as plt\n",
        "import matplotlib as mpl\n",
        "plt.plot(with_feedback_avg_rewards,'g',linewidth=3)\n",
        "plt.plot(without_feedback_avg_rewards,'r',linewidth=1.5)\n",
        "plt.plot()\n",
        "plt.legend([\"with feedback\", \"without feedback\"], loc =\"center\")\n",
        "plt.xlabel('Episodes')\n",
        "plt.ylabel('Average Reward')\n",
        "plt.title('average rewards w.r.t episodes')\n",
        "plt.style.use('dark_background')\n",
        "plt.show()"
      ]
    }
  ],
  "metadata": {
    "colab": {
      "collapsed_sections": [],
      "name": "feedback_protocol_with_16-bit_data.ipynb",
      "provenance": [],
      "authorship_tag": "ABX9TyNT+hAe/LeGEkKC/8e9eo89",
      "include_colab_link": true
    },
    "kernelspec": {
      "display_name": "Python 3",
      "name": "python3"
    },
    "language_info": {
      "name": "python"
    },
    "accelerator": "TPU",
    "gpuClass": "standard"
  },
  "nbformat": 4,
  "nbformat_minor": 0
}